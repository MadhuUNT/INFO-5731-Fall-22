{
 "cells": [
  {
   "cell_type": "markdown",
   "metadata": {
    "colab_type": "text",
    "id": "view-in-github"
   },
   "source": [
    "<a href=\"https://colab.research.google.com/github/unt-iialab/INFO5731_Spring2020/blob/master/In_class_exercise/In_class_exercise_01.ipynb\" target=\"_parent\"><img src=\"https://colab.research.google.com/assets/colab-badge.svg\" alt=\"Open In Colab\"/></a>"
   ]
  },
  {
   "cell_type": "markdown",
   "metadata": {
    "colab_type": "text",
    "id": "DymRJbxDBCnf"
   },
   "source": [
    "# **The first In-class-exercise (09/07/2022, 40 points in total)**"
   ]
  },
  {
   "cell_type": "markdown",
   "metadata": {
    "colab_type": "text",
    "id": "03jb4GZsBkBS"
   },
   "source": [
    "(1) Write a Python program to calculate the length of a string. (4 points)"
   ]
  },
  {
   "cell_type": "code",
   "execution_count": 1,
   "metadata": {
    "colab": {},
    "colab_type": "code",
    "id": "YaGLbSHHB8Ej"
   },
   "outputs": [
    {
     "name": "stdout",
     "output_type": "stream",
     "text": [
      "9\n"
     ]
    }
   ],
   "source": [
    "# write your answer here\n",
    "\n",
    "# declare and Define a string variable with sample text\n",
    "my_str = '2022_Fall'\n",
    "\n",
    "# calculate and Print the length of a string using len predefined method\n",
    "str_len = len(my_str)\n",
    "print(str_len)"
   ]
  },
  {
   "cell_type": "markdown",
   "metadata": {
    "colab_type": "text",
    "id": "jJDe71iLB616"
   },
   "source": [
    "(2) Write a Python program to count the number of characters in a string. (4 points)\n",
    "\n",
    "Sample String : 'google.com‘, \n",
    "\n",
    "Expected Result : {'o': 3, 'g': 2, '.': 1, 'e': 1, 'l': 1, 'm': 1, 'c': 1}"
   ]
  },
  {
   "cell_type": "code",
   "execution_count": 2,
   "metadata": {
    "colab": {},
    "colab_type": "code",
    "id": "MtKskTzbCLaU"
   },
   "outputs": [
    {
     "name": "stdout",
     "output_type": "stream",
     "text": [
      "{'g': 2, 'o': 3, 'l': 1, 'e': 1, '.': 1, 'c': 1, 'm': 1}\n"
     ]
    }
   ],
   "source": [
    "# write your answer here\n",
    "# declare, define a string variable with sample text and a dictionary empty variable\n",
    "my_str = 'google.com'\n",
    "response = {}\n",
    "\n",
    "# using a for loop count a character occurance in a given string and push the same object into dictionary\n",
    "for char in my_str:\n",
    "    response[char] = my_str.count(char)\n",
    "\n",
    "# print the response\n",
    "print(response)"
   ]
  },
  {
   "cell_type": "markdown",
   "metadata": {
    "colab_type": "text",
    "id": "55W9AMdXCSpV"
   },
   "source": [
    "(3) Write a Python program to sum all the items in a list. (4 points)"
   ]
  },
  {
   "cell_type": "code",
   "execution_count": 9,
   "metadata": {
    "colab": {},
    "colab_type": "code",
    "id": "I57NXsauCec2"
   },
   "outputs": [
    {
     "name": "stdout",
     "output_type": "stream",
     "text": [
      "sum of list items with valid data:  24\n",
      "sum of list items with empty list: 0\n"
     ]
    }
   ],
   "source": [
    "# write your answer here\n",
    "# define a function to calculate the sum of list items\n",
    "\n",
    "def sum_of_items(my_list):\n",
    "    response = 0\n",
    "    i = 0\n",
    "    while i < len(my_list):\n",
    "        response += my_list[i]\n",
    "        i += 1\n",
    "        \n",
    "    return response\n",
    "\n",
    "# print the response\n",
    "print('sum of list items with valid data: ', sum_of_items([9, 8, 7]))\n",
    "print('sum of list items with empty list:', sum_of_items([]))"
   ]
  },
  {
   "cell_type": "markdown",
   "metadata": {
    "colab_type": "text",
    "id": "4ulBZ6yhCi9F"
   },
   "source": [
    "(4) Write a Python program to get a string from a given string where all occurrences of its first char have been changed to '\\$', except the first char itself. (4 points)\n",
    "\n",
    "Sample String : 'restart‘, \n",
    "\n",
    "Expected Result : 'resta$t'"
   ]
  },
  {
   "cell_type": "code",
   "execution_count": 10,
   "metadata": {
    "colab": {},
    "colab_type": "code",
    "id": "Fj0XhwbBCw2o"
   },
   "outputs": [
    {
     "name": "stdout",
     "output_type": "stream",
     "text": [
      "resta$t\n"
     ]
    }
   ],
   "source": [
    "# write your answer here\n",
    "# define a sample string, assign the first character to a variable, replace the characters then concatenate the value\n",
    "my_str = 'restart'\n",
    "first_char = my_str[0]\n",
    "my_str = my_str.replace(first_char, '$')\n",
    "my_str = first_char + my_str[1:]\n",
    "\n",
    "print(my_str)"
   ]
  },
  {
   "cell_type": "markdown",
   "metadata": {
    "colab_type": "text",
    "id": "_bIP7s1MCzue"
   },
   "source": [
    "(5) Write a program with python which could accept two parameter a and b to calculate and output the result of S, where \n",
    "\n",
    "$\\ S=3.14*(1+a/b)^3$ (4 points)\n",
    "\n"
   ]
  },
  {
   "cell_type": "code",
   "execution_count": 15,
   "metadata": {
    "colab": {},
    "colab_type": "code",
    "id": "w79QilHXD3Mg"
   },
   "outputs": [
    {
     "name": "stdout",
     "output_type": "stream",
     "text": [
      "3.16512\n",
      "divider should not be a zero value.\n"
     ]
    }
   ],
   "source": [
    "# write your answer here\n",
    "\n",
    "def calculation(a, b):\n",
    "    if(b == 0):\n",
    "        return 'divisor should not be a zero value.'\n",
    "    return 3.14*(1+(a/b)**3)\n",
    "\n",
    "# print the response with valid data passed\n",
    "print(calculation(1,5))\n",
    "# print the response with invalid data passed\n",
    "print(calculation(1,0))"
   ]
  },
  {
   "cell_type": "markdown",
   "metadata": {
    "colab_type": "text",
    "id": "xCa2bK9aD4Q3"
   },
   "source": [
    "(6) Write a Python program to concatenate following dictionaries to create a new one. (4 points)\n",
    "\n",
    "Sample Dictionary : dic1={1:10, 2:20}, dic2={3:30, 4:40}, dic3={5:50,6:60}, \n",
    "\n",
    "Expected Result : {1: 10, 2: 20, 3: 30, 4: 40, 5: 50, 6: 60}\n"
   ]
  },
  {
   "cell_type": "code",
   "execution_count": 16,
   "metadata": {
    "colab": {},
    "colab_type": "code",
    "id": "_z4aLqAbEET1"
   },
   "outputs": [
    {
     "name": "stdout",
     "output_type": "stream",
     "text": [
      "{1: 10, 2: 20, 3: 30, 4: 40, 5: 50, 6: 60}\n"
     ]
    }
   ],
   "source": [
    "# write your answer here\n",
    "# sample dictionaries defined and declared \n",
    "dic1={1:10, 2:20}\n",
    "dic2={3:30, 4:40}\n",
    "dic3={5:50,6:60}\n",
    "\n",
    "# merge the given dictionaries and print the result\n",
    "result = {**dic1, **dic2, **dic3}\n",
    "print(result)\n"
   ]
  },
  {
   "cell_type": "markdown",
   "metadata": {
    "colab_type": "text",
    "id": "0v48Vqa7FrQh"
   },
   "source": [
    "(7) Write a Python program to check whether an element exists within a tuple. (4 points)"
   ]
  },
  {
   "cell_type": "code",
   "execution_count": 17,
   "metadata": {
    "colab": {},
    "colab_type": "code",
    "id": "7WEmgq-DF2P1"
   },
   "outputs": [
    {
     "name": "stdout",
     "output_type": "stream",
     "text": [
      "True\n",
      "False\n"
     ]
    }
   ],
   "source": [
    "# write your answer here\n",
    "# declare and define a tuple with sample data\n",
    "my_tuple = (12, 13, 'abc', '0.8')\n",
    "\n",
    "# print the response\n",
    "print(12 in my_tuple)\n",
    "print('xyz' in my_tuple)"
   ]
  },
  {
   "cell_type": "markdown",
   "metadata": {
    "colab_type": "text",
    "id": "vD5PYLMuGga_"
   },
   "source": [
    "(8) Write a Python program to find maximum and the minimum value in a set. (4 points)"
   ]
  },
  {
   "cell_type": "code",
   "execution_count": 18,
   "metadata": {
    "colab": {},
    "colab_type": "code",
    "id": "t0D5kdJUGjjw"
   },
   "outputs": [
    {
     "name": "stdout",
     "output_type": "stream",
     "text": [
      "Max value : 10\n",
      "Min value : 1\n"
     ]
    }
   ],
   "source": [
    "# write your answer here\n",
    "my_set = {1, 2, 10}\n",
    "\n",
    "# print the max and min values of a given set\n",
    "print('Max value :', max(my_set))\n",
    "print('Min value :', min(my_set))"
   ]
  },
  {
   "cell_type": "markdown",
   "metadata": {
    "colab_type": "text",
    "id": "uHkd-y5VhVWC"
   },
   "source": [
    "(9) Write a Python program to randomly divide the students in this class into six groups for term projects, each group should have at least 4 students but no more than 6 students (including 6). Here is the students list: (4 points)\n",
    "\n",
    "studnet_list = ['ja0964','sa1198','sb1357','vb0218','sc1229','kg0569','kg0470','sg1297','bg0320','fh0141','jl1252','sk1386',\n",
    "           'ak0956','sk1390','sk1458','sk1313','ak0934','vm0377','nm0618','sm1640','sm1907','gn0108','pr0353','dr0609','ms1500','aos0040','ds0814', 'av0659','nv0234','hy0232']"
   ]
  },
  {
   "cell_type": "code",
   "execution_count": 33,
   "metadata": {
    "colab": {},
    "colab_type": "code",
    "id": "3iGbmcOBhTwy"
   },
   "outputs": [
    {
     "name": "stdout",
     "output_type": "stream",
     "text": [
      "[['ja0964', 'sa1198', 'sb1357', 'vb0218'], ['sc1229', 'kg0569', 'kg0470', 'sg1297'], ['bg0320', 'fh0141', 'jl1252', 'sk1386'], ['ak0956', 'sk1390', 'sk1458', 'sk1313'], ['ak0934', 'vm0377', 'nm0618', 'sm1640'], ['sm1907', 'gn0108', 'pr0353', 'dr0609'], ['ms1500', 'aos0040', 'ds0814', 'av0659', 'nv0234', 'hy0232']]\n",
      "Input data is not valid to divide into sub groups as the base criteria is minimum 4 items should be available in the array\n",
      "Input data is not valid to divide into sub groups as the base criteria is minimum 4 items should be available in the array\n"
     ]
    }
   ],
   "source": [
    "# write your answer here\n",
    "# define a function which returns an array with sub groups with min of 4 items and max of 6 items each\n",
    "def devide_sub_groups(studnet_list):\n",
    "    response = []\n",
    "    if len(studnet_list) < 4:\n",
    "        return 'Input data is not valid to divide into sub groups as the base criteria is minimum 4 items should be available in the array'\n",
    "    else:\n",
    "        while len(studnet_list) != 0:\n",
    "            if len(studnet_list) <= 6 & len(studnet_list) >= 4:\n",
    "                response.append(studnet_list[0:len(studnet_list)])\n",
    "                studnet_list = []\n",
    "            elif len(studnet_list) == 11:\n",
    "                response.append(studnet_list[0:5])\n",
    "                for i in range(5):\n",
    "                    studnet_list.pop(0)\n",
    "            else:\n",
    "                response.append(studnet_list[0:4])\n",
    "                for i in range(4):\n",
    "                    studnet_list.pop(0)\n",
    "                    \n",
    "        return response\n",
    "        \n",
    "# print response\n",
    "print(devide_sub_groups(['ja0964','sa1198','sb1357','vb0218','sc1229','kg0569','kg0470','sg1297','bg0320','fh0141','jl1252','sk1386', 'ak0956','sk1390','sk1458','sk1313','ak0934','vm0377','nm0618','sm1640','sm1907','gn0108','pr0353','dr0609','ms1500','aos0040','ds0814', 'av0659','nv0234','hy0232']))\n",
    "print(devide_sub_groups([1, 2, 3])) # insufficient items of an array \n",
    "print(devide_sub_groups([])) # empty array \n",
    "\n"
   ]
  },
  {
   "cell_type": "markdown",
   "metadata": {},
   "source": [
    "(10) Write a Python program to find the duplicate elements in a given array of integers. Return -1 If there are no such elements. (4 points)"
   ]
  },
  {
   "cell_type": "code",
   "execution_count": 27,
   "metadata": {},
   "outputs": [
    {
     "name": "stdout",
     "output_type": "stream",
     "text": [
      "Without duplicates: -1\n",
      "With duplicates: 1\n"
     ]
    }
   ],
   "source": [
    "# write your answer here\n",
    "def duplicates_check(num_array):\n",
    "    my_set = set()\n",
    "    \n",
    "    for i in range(len(num_array)):\n",
    "        if num_array[i] in my_set:\n",
    "            return num_array[i]\n",
    "        else:\n",
    "            my_set.add(num_array[i])\n",
    "            \n",
    "    return -1\n",
    "\n",
    "# print the response\n",
    "print('Without duplicates:', duplicates_check([1, 2, 0]))\n",
    "print('With duplicates:',duplicates_check([1, 2, 1]))"
   ]
  },
  {
   "cell_type": "markdown",
   "metadata": {},
   "source": [
    "(11) Write a Python program to select all the Sundays of a specified year. (4 extra points)"
   ]
  },
  {
   "cell_type": "code",
   "execution_count": 25,
   "metadata": {},
   "outputs": [
    {
     "name": "stdout",
     "output_type": "stream",
     "text": [
      "2022-01-02\n",
      "2022-01-09\n",
      "2022-01-16\n",
      "2022-01-23\n",
      "2022-01-30\n",
      "2022-02-06\n",
      "2022-02-13\n",
      "2022-02-20\n",
      "2022-02-27\n",
      "2022-03-06\n",
      "2022-03-13\n",
      "2022-03-20\n",
      "2022-03-27\n",
      "2022-04-03\n",
      "2022-04-10\n",
      "2022-04-17\n",
      "2022-04-24\n",
      "2022-05-01\n",
      "2022-05-08\n",
      "2022-05-15\n",
      "2022-05-22\n",
      "2022-05-29\n",
      "2022-06-05\n",
      "2022-06-12\n",
      "2022-06-19\n",
      "2022-06-26\n",
      "2022-07-03\n",
      "2022-07-10\n",
      "2022-07-17\n",
      "2022-07-24\n",
      "2022-07-31\n",
      "2022-08-07\n",
      "2022-08-14\n",
      "2022-08-21\n",
      "2022-08-28\n",
      "2022-09-04\n",
      "2022-09-11\n",
      "2022-09-18\n",
      "2022-09-25\n",
      "2022-10-02\n",
      "2022-10-09\n",
      "2022-10-16\n",
      "2022-10-23\n",
      "2022-10-30\n",
      "2022-11-06\n",
      "2022-11-13\n",
      "2022-11-20\n",
      "2022-11-27\n",
      "2022-12-04\n",
      "2022-12-11\n",
      "2022-12-18\n",
      "2022-12-25\n"
     ]
    }
   ],
   "source": [
    "# write your answer here\n",
    "# import required dependencies\n",
    "from datetime import date, timedelta\n",
    "\n",
    "# define a function to calculate all available sundays in a given year\n",
    "def print_all_sundays(year):\n",
    "    dt = date(year, 1, 1)\n",
    "    dt += timedelta(days = 6 - dt.weekday())\n",
    "    while dt.year == year:\n",
    "        yield dt\n",
    "        dt += timedelta(days = 7)\n",
    "        \n",
    "for sun in print_all_sundays(2022):\n",
    "    print(sun)"
   ]
  },
  {
   "cell_type": "code",
   "execution_count": null,
   "metadata": {},
   "outputs": [],
   "source": []
  }
 ],
 "metadata": {
  "colab": {
   "collapsed_sections": [],
   "include_colab_link": true,
   "name": "In_class_exercise_01.ipynb",
   "provenance": []
  },
  "kernelspec": {
   "display_name": "Python 3 (ipykernel)",
   "language": "python",
   "name": "python3"
  },
  "language_info": {
   "codemirror_mode": {
    "name": "ipython",
    "version": 3
   },
   "file_extension": ".py",
   "mimetype": "text/x-python",
   "name": "python",
   "nbconvert_exporter": "python",
   "pygments_lexer": "ipython3",
   "version": "3.9.12"
  }
 },
 "nbformat": 4,
 "nbformat_minor": 1
}
