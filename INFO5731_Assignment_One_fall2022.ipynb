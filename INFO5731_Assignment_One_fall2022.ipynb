{
 "cells": [
  {
   "cell_type": "markdown",
   "metadata": {
    "colab_type": "text",
    "id": "view-in-github"
   },
   "source": [
    "<a href=\"https://colab.research.google.com/github/unt-iialab/INFO5731_Spring2020/blob/master/Assignments/INFO5731_Assignment_One.ipynb\" target=\"_parent\"><img src=\"https://colab.research.google.com/assets/colab-badge.svg\" alt=\"Open In Colab\"/></a>"
   ]
  },
  {
   "cell_type": "markdown",
   "metadata": {
    "colab_type": "text",
    "id": "Ryk8D1Q4Wsrp"
   },
   "source": [
    "# **INFO5731 Assignment One**"
   ]
  },
  {
   "cell_type": "markdown",
   "metadata": {
    "colab_type": "text",
    "id": "90_NR8c5XGWc"
   },
   "source": [
    "# Question 1\n",
    "\n",
    "(20 points). Write a Python program to generate 12 random numbers between 1 and 100. Sort the list of numbers in ascending order and print it out. Sort the list of numbers in descending order and print it out. Calculate the average for the group and print it out."
   ]
  },
  {
   "cell_type": "code",
   "execution_count": 25,
   "metadata": {
    "colab": {},
    "colab_type": "code",
    "id": "5QX6bJjGWXY9"
   },
   "outputs": [
    {
     "name": "stdout",
     "output_type": "stream",
     "text": [
      "ascending order : [4, 8, 11, 14, 16, 28, 51, 63, 81, 85, 87, 93]\n",
      "descending order : [93, 87, 85, 81, 63, 51, 28, 16, 14, 11, 8, 4]\n",
      "Average : 45.083333333333336\n"
     ]
    }
   ],
   "source": [
    "# Your code here\n",
    "# Import dependencies\n",
    "import random\n",
    "\n",
    "# Generate 12 random numbers between 1 and 100\n",
    "my_list = random.sample(range(1, 100), 12)\n",
    "\n",
    "# sort the list ascending order and print\n",
    "ascending_order_list = sorted(my_list)\n",
    "print('ascending order :', ascending_order_list)\n",
    "\n",
    "# sort the list descending order and print\n",
    "descending_order_list = sorted(my_list, reverse=True)\n",
    "print('descending order :', descending_order_list)\n",
    "\n",
    "# Calculate the average for the group and print it out.\n",
    "avg = sum(my_list)/len(my_list)\n",
    "print('Average :', avg)\n"
   ]
  },
  {
   "cell_type": "markdown",
   "metadata": {
    "colab_type": "text",
    "id": "1F_PZdH9Sh49"
   },
   "source": [
    "# Question 2\n",
    "(25 points). Write a program that will do the following string formatting tasks:\n",
    "\n",
    "(1) Ask the user to enter two sentences.\n",
    "\n",
    "(2) Make each sentence into a list. Each element in the list should correspond to a word in the sentence. For example, if the sentence is \"Alas! Am I alive? This is my first python program\", the program should print out ['Alas, '!', 'Am', 'I', 'alive, '?', 'This', 'is', 'my', 'first', 'python', 'program'].\n",
    "\n",
    "(3) Compare the two sentences. Print out a list of words that occur in both sentences.\n",
    "\n",
    "(4) Remove any punctuation from the sentence and print it back out. It should remove at least the following characters, but it can remove more: period(“.”), comma (“,”), semicolon (“;”), and colon (“:”)\n",
    "\n",
    "(5) Count the number of vowels in the sentences. Print out each vowel and the number of times it appears in the sentences, such as: a:2, e:1, i:0, etc"
   ]
  },
  {
   "cell_type": "code",
   "execution_count": 1,
   "metadata": {
    "colab": {},
    "colab_type": "code",
    "id": "Y0oOSlsOS0cq"
   },
   "outputs": [
    {
     "name": "stdout",
     "output_type": "stream",
     "text": [
      "Enter sentence one : Hello, how are you?\n",
      "Enter second sentence : Hey there, I am good, what about you?\n",
      "Sentence one after conveting to List ['hello', ',', 'how', 'are', 'you', '?']\n",
      "Sentence two after conveting to List ['hey', 'there', ',', 'i', 'am', 'good', ',', 'what', 'about', 'you', '?']\n",
      "Matching elements found from two sentences are {',', 'you', '?'}\n",
      "Sentence one after removing punctuations: hello how are you\n",
      "Sentence two after removing punctuations: hey there i am good what about you\n",
      "Number of vowels from sentence one: {'a': 1, 'e': 2, 'i': 0, 'u': 1, 'o': 3}\n",
      "Number of vowels from sentence two: {'a': 3, 'e': 3, 'i': 1, 'u': 2, 'o': 4}\n"
     ]
    }
   ],
   "source": [
    "# Your code here\n",
    "\n",
    "# Q1 For user input\n",
    "first_sentence = input(\"Enter sentence one : \")\n",
    "second_sentence = input(\"Enter second sentence : \")\n",
    "first_sentence = first_sentence.lower()\n",
    "second_sentence = second_sentence.lower()\n",
    "\n",
    "# Q2 Converting string into list\n",
    "import re\n",
    "list_first_sentence = re.findall(r\"[\\w']+|[.,!?]\", first_sentence)\n",
    "list_second_sentence = re.findall(r\"[\\w']+|[.,!?]\", second_sentence)\n",
    "print(\"Sentence one after conveting to List\", list_first_sentence)\n",
    "print(\"Sentence two after conveting to List\", list_second_sentence)\n",
    "\n",
    "# Q3 Retrieving macthing items\n",
    "matching_words = set(list_first_sentence) & set(list_second_sentence)\n",
    "print(\"Matching elements found from two sentences are\", matching_words)\n",
    "\n",
    "# Q4 Removing punctuations from user input sentences\n",
    "removed_punc_first_sentence = re.sub(r'[^\\w\\s]', '', first_sentence)\n",
    "removed_punc_second_sentence = re.sub(r'[^\\w\\s]', '', second_sentence)\n",
    "print(\"Sentence one after removing punctuations:\", removed_punc_first_sentence)\n",
    "print(\"Sentence two after removing punctuations:\", removed_punc_second_sentence)\n",
    "\n",
    "# Q5 Counting numner of vowels present in the user input\n",
    "vowels = 'aeiou'\n",
    "def count_vowels(sentence):\n",
    "    response = {'a':0, 'e':0, 'i':0, 'u':0, 'o':0}\n",
    "    for char in vowels:\n",
    "        if char in sentence:\n",
    "            response[char] = sentence.count(char)\n",
    "\n",
    "    return response\n",
    "\n",
    "print(\"Number of vowels from sentence one:\", count_vowels(first_sentence))\n",
    "print(\"Number of vowels from sentence two:\", count_vowels(second_sentence))"
   ]
  },
  {
   "cell_type": "markdown",
   "metadata": {
    "colab_type": "text",
    "id": "CmFoI4jDS9nx"
   },
   "source": [
    "# Question 3 \n",
    "\n",
    "(15 points). The formula that describes the volume V of a sphere with radius r is the following:\n",
    "\n",
    "$ V=\\frac{4}{3}\\ast\\ \\pi\\ast\\ r^3 $\n",
    "\n",
    "Write a program to calculate the value of V when r is in the range of 1–10. Output the result in the following format:\n",
    "\n",
    "\tr\tV\n",
    "\t1\t…\n",
    "\t2\t…\n",
    "\t3\t…\n"
   ]
  },
  {
   "cell_type": "code",
   "execution_count": 141,
   "metadata": {
    "colab": {},
    "colab_type": "code",
    "id": "pEyqeioAT95b"
   },
   "outputs": [
    {
     "name": "stdout",
     "output_type": "stream",
     "text": [
      "r v\n",
      "1 4.188790133333333\n",
      "2 33.51032106666666\n",
      "3 113.09733359999998\n",
      "4 268.0825685333333\n",
      "5 523.5987666666666\n",
      "6 904.7786687999999\n",
      "7 1436.7550157333333\n",
      "8 2144.6605482666664\n",
      "9 3053.6280071999995\n",
      "10 4188.790133333333\n"
     ]
    }
   ],
   "source": [
    "# Your code here\n",
    "pi = 3.1415926\n",
    "\n",
    "print('r v')\n",
    "for item in range(1, 11):\n",
    "    v = (4/3)*pi*(item**3)\n",
    "    print(item, v)\n",
    "\n"
   ]
  },
  {
   "cell_type": "markdown",
   "metadata": {
    "colab_type": "text",
    "id": "z3tBE7E-Xn5X"
   },
   "source": [
    "# Question 4\n",
    "\n",
    "(40 points). In the field of Data Science, data is often formatted as a comma-delimited (CSV) file, where each line in a file corresponds to a field's value. Refer to Chapter 9 (p. 106) for more information on comma-delimited files. To answer this question, you will need to download the file [Assignment1_denton_housing.csv](https://raw.githubusercontent.com/unt-iialab/info5731-spring2022/main/assignments/Assignment1_denton_housing.csv) included with this assignment. The file [Assignment1_denton_housing.csv](https://raw.githubusercontent.com/unt-iialab/info5731-spring2022/main/assignments/Assignment1_denton_housing.csv) contains statistics about housing in the city of Denton from 2008 to 2014. Write a program to implement the following questions.\n",
    "\n",
    "(1) (10 pts) Calculate the difference in the number of Occupied Housing Units from year to year and print it. The difference must be calculated for the consecutive years such as 2008-2009, 2009-2010 etc. Finally, print the values in the ascending order.\n",
    "\n",
    "(2) (10 pts) For all the years, calculate the percentage of housing units which are vacant an occupied. Print the results in the following format:\n",
    "\n",
    "Year Vacant Housing Units Occupied Housing Units\n",
    "\n",
    "    2008  30%   70%                          \n",
    "\t2009 ----- -----\n",
    "\t2010 ----- -----\n",
    "    2011 ----- -----\n",
    "\t2012 ----- -----\n",
    "    2013 ----- -----\n",
    "\t2014 ----- -----\n",
    "  \n",
    "  \n",
    "\n",
    "(3) (10 pts) Calculate and print the valued and years in which the highest number of housing units were vacant and occupied. Print the results in the following format:  \n",
    "\n",
    "                              Year\tValue\n",
    "\tVacant Housing Units\t  -----   -----\n",
    "\tOccupied Housing Units\t-----   -----\n",
    "\n",
    "(4) (10 pts) Calculate the harmonic mean of the total housing units and print it out. You can find the information about harmonic mean here: https://ncalculators.com/statistics/harmonic-mean-calculator.htm"
   ]
  },
  {
   "cell_type": "code",
   "execution_count": 2,
   "metadata": {
    "colab": {},
    "colab_type": "code",
    "id": "lqGYuHBhcsRH"
   },
   "outputs": [
    {
     "name": "stdout",
     "output_type": "stream",
     "text": [
      "difference in the number of Occupied Housing Units from year to year printed in ascending order: [-5091, -2622, -1565, -1404, 303, 795]\n"
     ]
    }
   ],
   "source": [
    "# Your code here\n",
    "# Importing required packages\n",
    "import pandas as pd\n",
    "import numpy as np\n",
    "\n",
    "# read given csv file data\n",
    "data = pd.read_csv('./Assignment1_denton_housing.csv')\n",
    "\n",
    "# calculate the difference in the number of Occupied Housing Units from year to year and sort in ascending order\n",
    "# Q1\n",
    "occu_houses = data[data['title_field'] == 'Occupied Housing Units'].sort_values(by=['year'])\n",
    "\n",
    "diff_house = [list(occu_houses['value'].values)[loop] - list(occu_houses['value'].values)[loop+1]\\\n",
    "for loop in range(len(occu_houses)-1)]\n",
    "diff_house = sorted(diff_house)\n",
    "print('difference in the number of Occupied Housing Units from year to year printed in ascending order:', diff_house)\n"
   ]
  },
  {
   "cell_type": "code",
   "execution_count": 136,
   "metadata": {},
   "outputs": [
    {
     "name": "stdout",
     "output_type": "stream",
     "text": [
      "Year Vacant Housing Units Occupied Housing Units\n",
      "2014 5.730110570363885 % 94.26988942963611 %\n",
      "2013 8.801787504176412 % 91.19821249582358 %\n",
      "2012 6.677600230491346 % 93.32239976950866 %\n",
      "2011 9.379522229890688 % 90.6204777701093 %\n",
      "2010 8.142556337081672 % 91.85744366291833 %\n",
      "2009 9.07111572444872 % 90.92888427555128 %\n",
      "2008 10.88265281351653 % 89.11734718648347 %\n"
     ]
    }
   ],
   "source": [
    "# Q2\n",
    "print('Year', \"Vacant Housing Units\", 'Occupied Housing Units')\n",
    "\n",
    "years_list = []\n",
    "for index, row in data.iterrows():\n",
    "    count = 0\n",
    "    occu = 0\n",
    "    vacant = 0\n",
    "    total = 0\n",
    "    \n",
    "    for i, r in data.iterrows():\n",
    "        if r['year'] == row['year']:\n",
    "            if count == 3:\n",
    "                if r['year'] not in years_list:\n",
    "                    years_list.append(r['year'])\n",
    "                    print(r['year'], (vacant/total)*100, '%', (occu/total)*100, '%')\n",
    "                break;\n",
    "            if r['title_field'] == 'Occupied Housing Units':\n",
    "                occu = r['value']\n",
    "                count += 1\n",
    "            if r['title_field'] == 'Vacant Housing Units':\n",
    "                vacant = r['value']\n",
    "                count += 1\n",
    "            if r['title_field'] == 'Total Housing Units':\n",
    "                total = r['value']\n",
    "                count += 1\n"
   ]
  },
  {
   "cell_type": "code",
   "execution_count": 137,
   "metadata": {},
   "outputs": [
    {
     "name": "stdout",
     "output_type": "stream",
     "text": [
      "                        year  value\n",
      "Vacant Housing Units    2008   4483\n",
      "Occupied Housing Units  2014  46295\n"
     ]
    }
   ],
   "source": [
    "# Q3\n",
    "\n",
    "vacant_max = 0\n",
    "occupied_max = 0\n",
    "max_values = [0, 0]\n",
    "\n",
    "for i, row in data.iterrows():\n",
    "    if row['title_field'] == 'Vacant Housing Units':\n",
    "        if row['value'] > vacant_max:\n",
    "            vacant_max = row['value']\n",
    "            max_values[0] = row\n",
    "    if row['title_field'] == 'Occupied Housing Units':\n",
    "        if row['value'] > occupied_max:\n",
    "            occupied_max = row['value']\n",
    "            max_values[1] = row\n",
    "\n",
    "df = pd.DataFrame(data=max_values, columns=['year', 'value'], index=['Vacant Housing Units', 'Occupied Housing Units'])\n",
    "print(df)\n",
    "    "
   ]
  },
  {
   "cell_type": "code",
   "execution_count": 138,
   "metadata": {},
   "outputs": [
    {
     "name": "stdout",
     "output_type": "stream",
     "text": [
      "Harmonic mean of the total housing units: 44398.28543969185\n"
     ]
    }
   ],
   "source": [
    "# Q4\n",
    "import statistics\n",
    "total_housing_untis = []\n",
    "\n",
    "for i, row in data.iterrows():\n",
    "    if row['title_field'] == 'Total Housing Units':\n",
    "        total_housing_untis.append(row['value'])\n",
    "\n",
    "harmonic_mean_value = statistics.harmonic_mean(total_housing_untis)\n",
    "print(\"Harmonic mean of the total housing units:\",harmonic_mean_value)"
   ]
  },
  {
   "cell_type": "code",
   "execution_count": null,
   "metadata": {},
   "outputs": [],
   "source": []
  }
 ],
 "metadata": {
  "colab": {
   "authorship_tag": "ABX9TyOAjsNCkNulTpzgRQbHdy3f",
   "collapsed_sections": [],
   "include_colab_link": true,
   "name": "INFO5731_Assignment_One.ipynb",
   "provenance": []
  },
  "kernelspec": {
   "display_name": "Python 3 (ipykernel)",
   "language": "python",
   "name": "python3"
  },
  "language_info": {
   "codemirror_mode": {
    "name": "ipython",
    "version": 3
   },
   "file_extension": ".py",
   "mimetype": "text/x-python",
   "name": "python",
   "nbconvert_exporter": "python",
   "pygments_lexer": "ipython3",
   "version": "3.9.12"
  }
 },
 "nbformat": 4,
 "nbformat_minor": 1
}
